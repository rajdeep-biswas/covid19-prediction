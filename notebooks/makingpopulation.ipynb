{
 "cells": [
  {
   "cell_type": "code",
   "execution_count": 155,
   "metadata": {},
   "outputs": [],
   "source": [
    "import pandas as pd\n",
    "import random\n",
    "import math\n",
    "import csv"
   ]
  },
  {
   "cell_type": "code",
   "execution_count": 46,
   "metadata": {},
   "outputs": [],
   "source": [
    "random.seed(1)"
   ]
  },
  {
   "cell_type": "code",
   "execution_count": 4,
   "metadata": {},
   "outputs": [],
   "source": [
    "censusdf = pd.read_csv(\"../datasheets/population_india_census2011.csv\")"
   ]
  },
  {
   "cell_type": "code",
   "execution_count": 113,
   "metadata": {},
   "outputs": [],
   "source": [
    "indivdf = pd.read_csv(\"../datasheets/IndividualDetails.csv\")"
   ]
  },
  {
   "cell_type": "code",
   "execution_count": 6,
   "metadata": {},
   "outputs": [],
   "source": [
    "agegroupsdf = pd.read_excel(\"../datasheets/india_age_groups_city.xls\")"
   ]
  },
  {
   "cell_type": "code",
   "execution_count": 7,
   "metadata": {
    "scrolled": true
   },
   "outputs": [],
   "source": [
    "censusstates = set(censusdf[\"State / Union Territory\"])"
   ]
  },
  {
   "cell_type": "code",
   "execution_count": 8,
   "metadata": {},
   "outputs": [],
   "source": [
    "indivcities = set(indivdf[\"detected_city\"])"
   ]
  },
  {
   "cell_type": "code",
   "execution_count": 9,
   "metadata": {},
   "outputs": [],
   "source": [
    "agegroupcities = set(agegroupsdf[\"Area Name\"])"
   ]
  },
  {
   "cell_type": "code",
   "execution_count": 10,
   "metadata": {},
   "outputs": [],
   "source": [
    "cleanedcensuscities = []\n",
    "\n",
    "for item in agegroupcities:\n",
    "    if item.find('(') == -1:\n",
    "        cleanedcensuscities.append(item.strip().lower())\n",
    "    else:\n",
    "        cleanedcensuscities.append(item[:item.find('(')].strip().lower())\n",
    "        \n",
    "cleanedindivcities = []\n",
    "\n",
    "for item in indivcities:\n",
    "    if type(item) is not float:\n",
    "        cleanedindivcities.append(item.strip().lower())"
   ]
  },
  {
   "cell_type": "code",
   "execution_count": 127,
   "metadata": {},
   "outputs": [],
   "source": [
    "newpopulation = []\n",
    "n = 3\n",
    "\n",
    "for index, row in agegroupsdf.iterrows():\n",
    "    city = row[\"Area Name\"]\n",
    "    city = city[:city.find('(')].strip().lower()\n",
    "    if row[\"Age-group\"] not in [\"Age not stated\", \"All ages\"]:\n",
    "        for i in range(random.randrange(1, n)):\n",
    "            if row[\"Age-group\"] == \"80+\":\n",
    "                age = random.randrange(80, 90)\n",
    "            else:\n",
    "                age = random.randrange(int(row[\"Age-group\"].split(\"-\")[0]), int(row[\"Age-group\"].split(\"-\")[1]))\n",
    "            if row[\"Males\"] - row[\"Females\"] < 0:\n",
    "                gender = \"F\"\n",
    "            elif random.randrange(0, 10) > 5:\n",
    "                gender = \"F\"\n",
    "            else:\n",
    "                gender = \"M\"\n",
    "            newpopulation.append([city, age, gender])"
   ]
  },
  {
   "cell_type": "code",
   "execution_count": 128,
   "metadata": {},
   "outputs": [
    {
     "data": {
      "text/plain": [
       "12813"
      ]
     },
     "execution_count": 128,
     "metadata": {},
     "output_type": "execute_result"
    }
   ],
   "source": [
    "len(newpopulation)"
   ]
  },
  {
   "cell_type": "code",
   "execution_count": 129,
   "metadata": {},
   "outputs": [
    {
     "data": {
      "text/plain": [
       "18032"
      ]
     },
     "execution_count": 129,
     "metadata": {},
     "output_type": "execute_result"
    }
   ],
   "source": [
    "len(indivdf)"
   ]
  },
  {
   "cell_type": "code",
   "execution_count": 164,
   "metadata": {},
   "outputs": [],
   "source": [
    "confirmedcases = []\n",
    "mean_age = 40\n",
    "\n",
    "for index, row in indivdf.iterrows():\n",
    "    city = row[\"detected_city\"]\n",
    "    if not isinstance(city, float) and city not in [\"\", \"-\"]:\n",
    "        city = city.strip().lower()\n",
    "        if math.isnan(row[\"age\"]):\n",
    "            row[\"age\"] = 40.0\n",
    "        if not isinstance(row[\"gender\"], str) and math.isnan(float(row[\"gender\"])):\n",
    "            if random.randrange(0, 10) > 5:\n",
    "                row[\"gender\"] = \"F\"\n",
    "            else:\n",
    "                row[\"gender\"] = \"M\"\n",
    "        confirmedcases.append([city, row[\"age\"], row[\"gender\"]])"
   ]
  },
  {
   "cell_type": "code",
   "execution_count": 165,
   "metadata": {
    "scrolled": true
   },
   "outputs": [
    {
     "data": {
      "text/plain": [
       "2161"
      ]
     },
     "execution_count": 165,
     "metadata": {},
     "output_type": "execute_result"
    }
   ],
   "source": [
    "len(confirmedcases)"
   ]
  },
  {
   "cell_type": "code",
   "execution_count": 166,
   "metadata": {},
   "outputs": [],
   "source": [
    "healthypeople = []\n",
    "\n",
    "for row in newpopulation:\n",
    "    if row not in confirmedcases:\n",
    "        healthypeople.append(row)"
   ]
  },
  {
   "cell_type": "code",
   "execution_count": 167,
   "metadata": {},
   "outputs": [
    {
     "data": {
      "text/plain": [
       "12773"
      ]
     },
     "execution_count": 167,
     "metadata": {},
     "output_type": "execute_result"
    }
   ],
   "source": [
    "len(healthypeople)"
   ]
  },
  {
   "cell_type": "code",
   "execution_count": 168,
   "metadata": {},
   "outputs": [
    {
     "data": {
      "text/plain": [
       "12813"
      ]
     },
     "execution_count": 168,
     "metadata": {},
     "output_type": "execute_result"
    }
   ],
   "source": [
    "len(newpopulation)"
   ]
  },
  {
   "cell_type": "code",
   "execution_count": 170,
   "metadata": {},
   "outputs": [],
   "source": [
    "with open('../datasheets/custom_confirmed.csv', 'w', newline='') as f:\n",
    "    writer = csv.writer(f)\n",
    "    writer.writerow([\"city\", \"age\", \"gender\"])\n",
    "    writer.writerows(confirmedcases)"
   ]
  },
  {
   "cell_type": "code",
   "execution_count": 171,
   "metadata": {},
   "outputs": [],
   "source": [
    "with open('../datasheets/custom_healthy.csv', 'w', newline='') as f:\n",
    "    writer = csv.writer(f)\n",
    "    writer.writerow([\"city\", \"age\", \"gender\"])\n",
    "    writer.writerows(confirmedcases)"
   ]
  },
  {
   "cell_type": "code",
   "execution_count": null,
   "metadata": {},
   "outputs": [],
   "source": []
  }
 ],
 "metadata": {
  "kernelspec": {
   "display_name": "Python 3",
   "language": "python",
   "name": "python3"
  },
  "language_info": {
   "codemirror_mode": {
    "name": "ipython",
    "version": 3
   },
   "file_extension": ".py",
   "mimetype": "text/x-python",
   "name": "python",
   "nbconvert_exporter": "python",
   "pygments_lexer": "ipython3",
   "version": "3.7.7"
  }
 },
 "nbformat": 4,
 "nbformat_minor": 4
}
